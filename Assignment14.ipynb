{
 "cells": [
  {
   "cell_type": "markdown",
   "id": "5277d624-48d3-4399-805c-5d6a40bc155d",
   "metadata": {},
   "source": [
    "1)what is multithreading in python? hy is it used? Name the module used to handle threads in python?"
   ]
  },
  {
   "cell_type": "markdown",
   "id": "6a6576ca-3dfc-4513-a4dd-55af26a13ca3",
   "metadata": {},
   "source": [
    "Multithreading is a threading technique in Python programming to run multiple threads concurrently by rapidly switching between threads with a CPU help (called context switching). Besides, it allows sharing of its data space with the main threads inside a process that share information and communication with other threads easier than individual processes. Multithreading aims to perform multiple tasks simultaneously, which increases performance, speed and improves the rendering of the application.\n",
    "Multithreading allows the execution of multiple parts of a program at the same time. These parts are known as threads and are lightweight processes available within the process. So multithreading leads to maximum utilization of the CPU by multitasking.\n",
    "multithreading or threading module is used to handled threads in python."
   ]
  },
  {
   "cell_type": "markdown",
   "id": "9817ab58-56a8-42d2-86b3-275b96428c16",
   "metadata": {},
   "source": [
    "2)why threading module used?write the use of the following functions:\n",
    "a) activeCount\n",
    "b) currentThread\n",
    "c) enumerate\n"
   ]
  },
  {
   "cell_type": "markdown",
   "id": "b7d4f6d9-97a5-44b9-b057-812c9099ab6a",
   "metadata": {},
   "source": [
    "Python threading allows you to have different parts of your program run concurrently and can simplify your design.\n",
    "It also speedup our programms.\n",
    "a)activecount-Returns the number of thread objects that are active.\n",
    "b)currentThread-It is used to return the current Thread object, which corresponds to the caller's thread of control.\n",
    "c)enumerate-The enumerate function in Python converts a data collection object into an enumerate object. Enumerate returns an object that contains a counter as a key for each value within an object, making items within the collection easier to access."
   ]
  },
  {
   "cell_type": "markdown",
   "id": "7d61594e-2086-4620-bc02-da222de19a52",
   "metadata": {},
   "source": [
    "3)Explain the following functions?\n",
    "a)run()\n",
    "b)start()\n",
    "c)join()\n",
    "d)isAlive()"
   ]
  },
  {
   "cell_type": "markdown",
   "id": "1eaa8767-ff4f-445e-b413-2ae6ba101f42",
   "metadata": {},
   "source": [
    "a)The standard run() method invokes the callable object passed to the object's constructor as the target argument, if any, with positional and keyword arguments taken from the args and kwargs arguments, respectively.\n",
    "b)start() method is an inbuilt method of the Thread class of the threading module in Python. It is used to start a thread's activity. This method calls the run() method internally which then executes the target method. This method must be called at most one time for one thread.\n",
    "c)The join() method takes all items in an iterable and joins them into one string. A string must be specified as the separator.\n",
    "d)Thread.is_alive() method is an inbuilt method of the Thread class of the threading module in Python. It uses a Thread object, and checks whether that thread is alive or not, ie, it is still running or not. This method returns True before the run() starts until just after the run() method is executed.\n"
   ]
  },
  {
   "cell_type": "markdown",
   "id": "ba146b3f-78e4-4585-b026-a834de952813",
   "metadata": {},
   "source": [
    "4)write a python program to create two threads. Thread one must print the list of squares and thread\n",
    "two must print the list of cubes?"
   ]
  },
  {
   "cell_type": "code",
   "execution_count": 5,
   "id": "90f18786-ba55-4ecd-bdaa-24f0bd65d94f",
   "metadata": {},
   "outputs": [],
   "source": [
    "import threading\n",
    "import logging\n",
    "logging.basicConfig(filename=\"thraed.log\",level=logging.ERROR)\n",
    "def print_square():\n",
    "    square=[x**2 for x in range(10)]\n",
    "    logging.error(\"List of square {} \".format(square))\n",
    "    \n",
    "def print_cube():\n",
    "    cube=[x**3 for x in range(10)]\n",
    "    logging.error(\"List of cubes{}\".format(cube))\n",
    "    \n",
    "if __name__ == \"__main__\":\n",
    "    thread1=threading.Thread(target=print_square)\n",
    "    thread2=threading.Thread(target=print_cube)\n",
    "    \n",
    "    \n",
    "    thread1.start()\n",
    "    thread2.start()\n",
    "    thread1.join()\n",
    "    thread2.join()\n",
    "    \n",
    "\n",
    "    \n",
    "    \n",
    "\n"
   ]
  },
  {
   "cell_type": "markdown",
   "id": "dfabcfcc-4ef1-44d7-91a6-1e11a10ae298",
   "metadata": {},
   "source": [
    "5)State advantages and disadvantages of multithreading?"
   ]
  },
  {
   "cell_type": "markdown",
   "id": "dbe589e5-fe92-40b9-a1fe-c5ca317ca569",
   "metadata": {},
   "source": [
    "Multithreading is a technique of dividing a single program into multiple threads of execution that can run simultaneously. Here are some of the advantages and disadvantages of multithreading:\n",
    "Advantages:\n",
    "-Improved performance: Multithreading can improve the performance of an application by allowing multiple threads to execute concurrently. This can increase the speed of the application and reduce the response time.\n",
    "\n",
    "-Better resource utilization: Multithreading can help to utilize system resources more efficiently by allowing multiple threads to execute on a single processor.\n",
    "\n",
    "-Enhanced responsiveness: Multithreading can make an application more responsive by allowing some threads to perform background tasks while others handle user input and other interactions.\n",
    "\n",
    "-Improved modularity: Multithreading can improve the modularity of an application by allowing different modules to be executed in different threads.\n",
    "\n",
    "\n",
    "Disadvantages:\n",
    "-Complexity: Multithreaded programming can be more complex than single-threaded programming, as the programmer must consider issues like synchronization, deadlocks, and race conditions.\n",
    "\n",
    "-Increased memory usage: Multithreading can increase memory usage as each thread has its own stack and program counter.\n",
    "\n",
    "-Difficulty in debugging: Debugging multithreaded applications can be more difficult than debugging single-threaded applications, as the interactions between threads can be hard to trace and reproduce.\n",
    "\n",
    "-Decreased determinism: Multithreading can make an application's behavior less predictable and more dependent on the order in which threads execute.\n",
    "\n",
    "-Potential for resource conflicts: Multithreading can increase the potential for conflicts and contention over shared resources such as variables, memory, and files."
   ]
  },
  {
   "cell_type": "markdown",
   "id": "bf121fdc-ddd8-4885-ad0d-b63dd617e352",
   "metadata": {},
   "source": [
    "6)Explain deadlocks and race conditions?"
   ]
  },
  {
   "cell_type": "markdown",
   "id": "9cddff14-a411-48c7-b814-165e084aea23",
   "metadata": {},
   "source": [
    "Deadlocks and race conditions are two common problems that can occur in multithreaded programming.\n",
    "\n",
    "Deadlocks occur when two or more threads are blocked, waiting for each other to release resources that they need in order to continue. This can happen when one thread holds a resource that another thread needs, and vice versa. For example, if thread A holds a lock on resource X and waits for a lock on resource Y, while thread B holds a lock on resource Y and waits for a lock on resource X, a deadlock will occur and both threads will be blocked indefinitely.\n",
    "Race conditions occur when two or more threads access a shared resource concurrently, and the result of the program depends on the order in which the threads execute. This can lead to unpredictable behavior and bugs that are difficult to reproduce and debug. For example, if two threads increment a shared variable concurrently, the final value of the variable will depend on the order in which the increments are executed, which can lead to unexpected results.\n",
    "Both deadlocks and race conditions can be difficult to detect and resolve. To prevent deadlocks, programmers can use techniques like locking and semaphores to ensure that resources are acquired and released in a consistent order. To prevent race conditions, programmers can use techniques like mutexes and atomic operations to ensure that shared resources are accessed in a mutually exclusive manner.\n",
    "\n",
    "In summary, deadlocks occur when threads are blocked waiting for each other to release resources, while race conditions occur when two or more threads access a shared resource concurrently and the result depends on the order of execution. Both problems can cause issues in multithreaded programs and should be addressed using appropriate synchronization techniques."
   ]
  },
  {
   "cell_type": "code",
   "execution_count": null,
   "id": "56158ffd-d8d6-452f-b4cf-1dc8f3a1f9ba",
   "metadata": {},
   "outputs": [],
   "source": []
  }
 ],
 "metadata": {
  "kernelspec": {
   "display_name": "Python 3 (ipykernel)",
   "language": "python",
   "name": "python3"
  },
  "language_info": {
   "codemirror_mode": {
    "name": "ipython",
    "version": 3
   },
   "file_extension": ".py",
   "mimetype": "text/x-python",
   "name": "python",
   "nbconvert_exporter": "python",
   "pygments_lexer": "ipython3",
   "version": "3.10.8"
  }
 },
 "nbformat": 4,
 "nbformat_minor": 5
}
